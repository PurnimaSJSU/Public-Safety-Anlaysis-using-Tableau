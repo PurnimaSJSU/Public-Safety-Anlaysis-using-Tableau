{
 "cells": [
  {
   "cell_type": "code",
   "execution_count": 2,
   "id": "e33c4dfd",
   "metadata": {},
   "outputs": [
    {
     "name": "stderr",
     "output_type": "stream",
     "text": [
      "/Users/purnima/opt/anaconda3/lib/python3.8/site-packages/IPython/core/interactiveshell.py:3165: DtypeWarning: Columns (10,12,13,20,38,45,46,55,59) have mixed types.Specify dtype option on import or set low_memory=False.\n",
      "  has_raised = await self.run_ast_nodes(code_ast.body, cell_name,\n"
     ]
    },
    {
     "data": {
      "text/html": [
       "<div>\n",
       "<style scoped>\n",
       "    .dataframe tbody tr th:only-of-type {\n",
       "        vertical-align: middle;\n",
       "    }\n",
       "\n",
       "    .dataframe tbody tr th {\n",
       "        vertical-align: top;\n",
       "    }\n",
       "\n",
       "    .dataframe thead th {\n",
       "        text-align: right;\n",
       "    }\n",
       "</style>\n",
       "<table border=\"1\" class=\"dataframe\">\n",
       "  <thead>\n",
       "    <tr style=\"text-align: right;\">\n",
       "      <th></th>\n",
       "      <th>Incident Number</th>\n",
       "      <th>Exposure Number</th>\n",
       "      <th>ID</th>\n",
       "      <th>Address</th>\n",
       "      <th>Incident Date</th>\n",
       "      <th>Call Number</th>\n",
       "      <th>Alarm DtTm</th>\n",
       "      <th>Arrival DtTm</th>\n",
       "      <th>Close DtTm</th>\n",
       "      <th>City</th>\n",
       "      <th>...</th>\n",
       "      <th>Detector Effectiveness</th>\n",
       "      <th>Detector Failure Reason</th>\n",
       "      <th>Automatic Extinguishing System Present</th>\n",
       "      <th>Automatic Extinguishing Sytem Type</th>\n",
       "      <th>Automatic Extinguishing Sytem Perfomance</th>\n",
       "      <th>Automatic Extinguishing Sytem Failure Reason</th>\n",
       "      <th>Number of Sprinkler Heads Operating</th>\n",
       "      <th>Supervisor District</th>\n",
       "      <th>neighborhood_district</th>\n",
       "      <th>point</th>\n",
       "    </tr>\n",
       "  </thead>\n",
       "  <tbody>\n",
       "    <tr>\n",
       "      <th>0</th>\n",
       "      <td>8028304</td>\n",
       "      <td>0</td>\n",
       "      <td>80283040</td>\n",
       "      <td>150 Elsie St.</td>\n",
       "      <td>2008-04-01T00:00:00</td>\n",
       "      <td>80920257</td>\n",
       "      <td>2008-04-01T18:06:37</td>\n",
       "      <td>2008-04-01T18:15:19</td>\n",
       "      <td>2008-04-01T18:21:48</td>\n",
       "      <td>SF</td>\n",
       "      <td>...</td>\n",
       "      <td>NaN</td>\n",
       "      <td>NaN</td>\n",
       "      <td>NaN</td>\n",
       "      <td>NaN</td>\n",
       "      <td>NaN</td>\n",
       "      <td>NaN</td>\n",
       "      <td>NaN</td>\n",
       "      <td>9.0</td>\n",
       "      <td>Bernal Heights</td>\n",
       "      <td>POINT (-122.41837339 37.74208979)</td>\n",
       "    </tr>\n",
       "    <tr>\n",
       "      <th>1</th>\n",
       "      <td>8028303</td>\n",
       "      <td>0</td>\n",
       "      <td>80283030</td>\n",
       "      <td>85 Turner Tr.</td>\n",
       "      <td>2008-04-01T00:00:00</td>\n",
       "      <td>80920256</td>\n",
       "      <td>2008-04-01T18:00:52</td>\n",
       "      <td>2008-04-01T18:06:30</td>\n",
       "      <td>2008-04-01T18:22:18</td>\n",
       "      <td>SF</td>\n",
       "      <td>...</td>\n",
       "      <td>NaN</td>\n",
       "      <td>NaN</td>\n",
       "      <td>NaN</td>\n",
       "      <td>NaN</td>\n",
       "      <td>NaN</td>\n",
       "      <td>NaN</td>\n",
       "      <td>NaN</td>\n",
       "      <td>10.0</td>\n",
       "      <td>Potrero Hill</td>\n",
       "      <td>POINT (-122.39489 37.756291)</td>\n",
       "    </tr>\n",
       "    <tr>\n",
       "      <th>2</th>\n",
       "      <td>8028309</td>\n",
       "      <td>0</td>\n",
       "      <td>80283090</td>\n",
       "      <td>175 6th St.</td>\n",
       "      <td>2008-04-01T00:00:00</td>\n",
       "      <td>80920262</td>\n",
       "      <td>2008-04-01T18:42:06</td>\n",
       "      <td>2008-04-01T18:45:23</td>\n",
       "      <td>2008-04-01T18:53:25</td>\n",
       "      <td>SF</td>\n",
       "      <td>...</td>\n",
       "      <td>NaN</td>\n",
       "      <td>NaN</td>\n",
       "      <td>NaN</td>\n",
       "      <td>NaN</td>\n",
       "      <td>NaN</td>\n",
       "      <td>NaN</td>\n",
       "      <td>NaN</td>\n",
       "      <td>NaN</td>\n",
       "      <td>South of Market</td>\n",
       "      <td>POINT (-122.407468 37.78008)</td>\n",
       "    </tr>\n",
       "    <tr>\n",
       "      <th>3</th>\n",
       "      <td>8028314</td>\n",
       "      <td>0</td>\n",
       "      <td>80283140</td>\n",
       "      <td>633 Hayes St.</td>\n",
       "      <td>2008-04-01T00:00:00</td>\n",
       "      <td>80920268</td>\n",
       "      <td>2008-04-01T19:03:52</td>\n",
       "      <td>2008-04-01T19:08:39</td>\n",
       "      <td>2008-04-01T19:35:36</td>\n",
       "      <td>SF</td>\n",
       "      <td>...</td>\n",
       "      <td>NaN</td>\n",
       "      <td>NaN</td>\n",
       "      <td>NaN</td>\n",
       "      <td>NaN</td>\n",
       "      <td>NaN</td>\n",
       "      <td>NaN</td>\n",
       "      <td>NaN</td>\n",
       "      <td>5.0</td>\n",
       "      <td>Hayes Valley</td>\n",
       "      <td>POINT (-122.42684908 37.77612642)</td>\n",
       "    </tr>\n",
       "    <tr>\n",
       "      <th>4</th>\n",
       "      <td>8028319</td>\n",
       "      <td>0</td>\n",
       "      <td>80283190</td>\n",
       "      <td>27th Av. / Cabrillo St.</td>\n",
       "      <td>2008-04-01T00:00:00</td>\n",
       "      <td>80920273</td>\n",
       "      <td>2008-04-01T19:16:12</td>\n",
       "      <td>2008-04-01T19:23:48</td>\n",
       "      <td>2008-04-01T19:28:49</td>\n",
       "      <td>SF</td>\n",
       "      <td>...</td>\n",
       "      <td>NaN</td>\n",
       "      <td>NaN</td>\n",
       "      <td>NaN</td>\n",
       "      <td>NaN</td>\n",
       "      <td>NaN</td>\n",
       "      <td>NaN</td>\n",
       "      <td>NaN</td>\n",
       "      <td>NaN</td>\n",
       "      <td>Outer Richmond</td>\n",
       "      <td>POINT (-122.4863941 37.77428492)</td>\n",
       "    </tr>\n",
       "    <tr>\n",
       "      <th>...</th>\n",
       "      <td>...</td>\n",
       "      <td>...</td>\n",
       "      <td>...</td>\n",
       "      <td>...</td>\n",
       "      <td>...</td>\n",
       "      <td>...</td>\n",
       "      <td>...</td>\n",
       "      <td>...</td>\n",
       "      <td>...</td>\n",
       "      <td>...</td>\n",
       "      <td>...</td>\n",
       "      <td>...</td>\n",
       "      <td>...</td>\n",
       "      <td>...</td>\n",
       "      <td>...</td>\n",
       "      <td>...</td>\n",
       "      <td>...</td>\n",
       "      <td>...</td>\n",
       "      <td>...</td>\n",
       "      <td>...</td>\n",
       "      <td>...</td>\n",
       "    </tr>\n",
       "    <tr>\n",
       "      <th>587545</th>\n",
       "      <td>22051342</td>\n",
       "      <td>0</td>\n",
       "      <td>220513420</td>\n",
       "      <td>2523 32ND AVENUE</td>\n",
       "      <td>2022-04-23T00:00:00</td>\n",
       "      <td>221130052</td>\n",
       "      <td>2022-04-23T00:39:19</td>\n",
       "      <td>2022-04-23T00:43:27</td>\n",
       "      <td>2022-04-23T01:08:26</td>\n",
       "      <td>San Francisco</td>\n",
       "      <td>...</td>\n",
       "      <td>NaN</td>\n",
       "      <td>NaN</td>\n",
       "      <td>NaN</td>\n",
       "      <td>NaN</td>\n",
       "      <td>NaN</td>\n",
       "      <td>NaN</td>\n",
       "      <td>NaN</td>\n",
       "      <td>NaN</td>\n",
       "      <td>Sunset/Parkside</td>\n",
       "      <td>POINT (-122.489541 37.740109)</td>\n",
       "    </tr>\n",
       "    <tr>\n",
       "      <th>587546</th>\n",
       "      <td>22044897</td>\n",
       "      <td>0</td>\n",
       "      <td>220448970</td>\n",
       "      <td>649 12TH AVENUE</td>\n",
       "      <td>2022-04-08T00:00:00</td>\n",
       "      <td>220981634</td>\n",
       "      <td>2022-04-08T13:29:01</td>\n",
       "      <td>2022-04-08T13:32:14</td>\n",
       "      <td>2022-04-08T13:39:13</td>\n",
       "      <td>San Francisco</td>\n",
       "      <td>...</td>\n",
       "      <td>NaN</td>\n",
       "      <td>NaN</td>\n",
       "      <td>NaN</td>\n",
       "      <td>NaN</td>\n",
       "      <td>NaN</td>\n",
       "      <td>NaN</td>\n",
       "      <td>NaN</td>\n",
       "      <td>NaN</td>\n",
       "      <td>Inner Richmond</td>\n",
       "      <td>POINT (-122.470454 37.776021)</td>\n",
       "    </tr>\n",
       "    <tr>\n",
       "      <th>587547</th>\n",
       "      <td>22044896</td>\n",
       "      <td>0</td>\n",
       "      <td>220448960</td>\n",
       "      <td>1040 SUTTER STREET</td>\n",
       "      <td>2022-04-08T00:00:00</td>\n",
       "      <td>220981632</td>\n",
       "      <td>2022-04-08T13:28:36</td>\n",
       "      <td>2022-04-08T13:35:42</td>\n",
       "      <td>2022-04-08T13:49:18</td>\n",
       "      <td>San Francisco</td>\n",
       "      <td>...</td>\n",
       "      <td>NaN</td>\n",
       "      <td>NaN</td>\n",
       "      <td>NaN</td>\n",
       "      <td>NaN</td>\n",
       "      <td>NaN</td>\n",
       "      <td>NaN</td>\n",
       "      <td>NaN</td>\n",
       "      <td>NaN</td>\n",
       "      <td>Nob Hill</td>\n",
       "      <td>POINT (-122.417527 37.788157)</td>\n",
       "    </tr>\n",
       "    <tr>\n",
       "      <th>587548</th>\n",
       "      <td>22049489</td>\n",
       "      <td>0</td>\n",
       "      <td>220494890</td>\n",
       "      <td>3658 17TH STREET</td>\n",
       "      <td>2022-04-18T00:00:00</td>\n",
       "      <td>221082987</td>\n",
       "      <td>2022-04-18T21:21:47</td>\n",
       "      <td>2022-04-18T21:30:09</td>\n",
       "      <td>2022-04-18T21:36:38</td>\n",
       "      <td>San Francisco</td>\n",
       "      <td>...</td>\n",
       "      <td>NaN</td>\n",
       "      <td>NaN</td>\n",
       "      <td>NaN</td>\n",
       "      <td>NaN</td>\n",
       "      <td>NaN</td>\n",
       "      <td>NaN</td>\n",
       "      <td>NaN</td>\n",
       "      <td>NaN</td>\n",
       "      <td>Castro/Upper Market</td>\n",
       "      <td>POINT (-122.427623 37.763013)</td>\n",
       "    </tr>\n",
       "    <tr>\n",
       "      <th>587549</th>\n",
       "      <td>22049488</td>\n",
       "      <td>0</td>\n",
       "      <td>220494880</td>\n",
       "      <td>371 ELIZABETH STREET</td>\n",
       "      <td>2022-04-18T00:00:00</td>\n",
       "      <td>221082983</td>\n",
       "      <td>2022-04-18T21:19:55</td>\n",
       "      <td>2022-04-18T21:26:34</td>\n",
       "      <td>2022-04-18T21:53:33</td>\n",
       "      <td>San Francisco</td>\n",
       "      <td>...</td>\n",
       "      <td>NaN</td>\n",
       "      <td>NaN</td>\n",
       "      <td>NaN</td>\n",
       "      <td>NaN</td>\n",
       "      <td>NaN</td>\n",
       "      <td>NaN</td>\n",
       "      <td>NaN</td>\n",
       "      <td>NaN</td>\n",
       "      <td>Noe Valley</td>\n",
       "      <td>POINT (-122.428981 37.752291)</td>\n",
       "    </tr>\n",
       "  </tbody>\n",
       "</table>\n",
       "<p>587550 rows × 64 columns</p>\n",
       "</div>"
      ],
      "text/plain": [
       "        Incident Number  Exposure Number         ID                  Address  \\\n",
       "0               8028304                0   80283040            150 Elsie St.   \n",
       "1               8028303                0   80283030            85 Turner Tr.   \n",
       "2               8028309                0   80283090              175 6th St.   \n",
       "3               8028314                0   80283140            633 Hayes St.   \n",
       "4               8028319                0   80283190  27th Av. / Cabrillo St.   \n",
       "...                 ...              ...        ...                      ...   \n",
       "587545         22051342                0  220513420         2523 32ND AVENUE   \n",
       "587546         22044897                0  220448970          649 12TH AVENUE   \n",
       "587547         22044896                0  220448960       1040 SUTTER STREET   \n",
       "587548         22049489                0  220494890         3658 17TH STREET   \n",
       "587549         22049488                0  220494880     371 ELIZABETH STREET   \n",
       "\n",
       "              Incident Date  Call Number           Alarm DtTm  \\\n",
       "0       2008-04-01T00:00:00     80920257  2008-04-01T18:06:37   \n",
       "1       2008-04-01T00:00:00     80920256  2008-04-01T18:00:52   \n",
       "2       2008-04-01T00:00:00     80920262  2008-04-01T18:42:06   \n",
       "3       2008-04-01T00:00:00     80920268  2008-04-01T19:03:52   \n",
       "4       2008-04-01T00:00:00     80920273  2008-04-01T19:16:12   \n",
       "...                     ...          ...                  ...   \n",
       "587545  2022-04-23T00:00:00    221130052  2022-04-23T00:39:19   \n",
       "587546  2022-04-08T00:00:00    220981634  2022-04-08T13:29:01   \n",
       "587547  2022-04-08T00:00:00    220981632  2022-04-08T13:28:36   \n",
       "587548  2022-04-18T00:00:00    221082987  2022-04-18T21:21:47   \n",
       "587549  2022-04-18T00:00:00    221082983  2022-04-18T21:19:55   \n",
       "\n",
       "               Arrival DtTm           Close DtTm           City  ...  \\\n",
       "0       2008-04-01T18:15:19  2008-04-01T18:21:48             SF  ...   \n",
       "1       2008-04-01T18:06:30  2008-04-01T18:22:18             SF  ...   \n",
       "2       2008-04-01T18:45:23  2008-04-01T18:53:25             SF  ...   \n",
       "3       2008-04-01T19:08:39  2008-04-01T19:35:36             SF  ...   \n",
       "4       2008-04-01T19:23:48  2008-04-01T19:28:49             SF  ...   \n",
       "...                     ...                  ...            ...  ...   \n",
       "587545  2022-04-23T00:43:27  2022-04-23T01:08:26  San Francisco  ...   \n",
       "587546  2022-04-08T13:32:14  2022-04-08T13:39:13  San Francisco  ...   \n",
       "587547  2022-04-08T13:35:42  2022-04-08T13:49:18  San Francisco  ...   \n",
       "587548  2022-04-18T21:30:09  2022-04-18T21:36:38  San Francisco  ...   \n",
       "587549  2022-04-18T21:26:34  2022-04-18T21:53:33  San Francisco  ...   \n",
       "\n",
       "       Detector Effectiveness Detector Failure Reason  \\\n",
       "0                         NaN                     NaN   \n",
       "1                         NaN                     NaN   \n",
       "2                         NaN                     NaN   \n",
       "3                         NaN                     NaN   \n",
       "4                         NaN                     NaN   \n",
       "...                       ...                     ...   \n",
       "587545                    NaN                     NaN   \n",
       "587546                    NaN                     NaN   \n",
       "587547                    NaN                     NaN   \n",
       "587548                    NaN                     NaN   \n",
       "587549                    NaN                     NaN   \n",
       "\n",
       "       Automatic Extinguishing System Present  \\\n",
       "0                                         NaN   \n",
       "1                                         NaN   \n",
       "2                                         NaN   \n",
       "3                                         NaN   \n",
       "4                                         NaN   \n",
       "...                                       ...   \n",
       "587545                                    NaN   \n",
       "587546                                    NaN   \n",
       "587547                                    NaN   \n",
       "587548                                    NaN   \n",
       "587549                                    NaN   \n",
       "\n",
       "       Automatic Extinguishing Sytem Type  \\\n",
       "0                                     NaN   \n",
       "1                                     NaN   \n",
       "2                                     NaN   \n",
       "3                                     NaN   \n",
       "4                                     NaN   \n",
       "...                                   ...   \n",
       "587545                                NaN   \n",
       "587546                                NaN   \n",
       "587547                                NaN   \n",
       "587548                                NaN   \n",
       "587549                                NaN   \n",
       "\n",
       "        Automatic Extinguishing Sytem Perfomance  \\\n",
       "0                                            NaN   \n",
       "1                                            NaN   \n",
       "2                                            NaN   \n",
       "3                                            NaN   \n",
       "4                                            NaN   \n",
       "...                                          ...   \n",
       "587545                                       NaN   \n",
       "587546                                       NaN   \n",
       "587547                                       NaN   \n",
       "587548                                       NaN   \n",
       "587549                                       NaN   \n",
       "\n",
       "        Automatic Extinguishing Sytem Failure Reason  \\\n",
       "0                                                NaN   \n",
       "1                                                NaN   \n",
       "2                                                NaN   \n",
       "3                                                NaN   \n",
       "4                                                NaN   \n",
       "...                                              ...   \n",
       "587545                                           NaN   \n",
       "587546                                           NaN   \n",
       "587547                                           NaN   \n",
       "587548                                           NaN   \n",
       "587549                                           NaN   \n",
       "\n",
       "        Number of Sprinkler Heads Operating  Supervisor District  \\\n",
       "0                                       NaN                  9.0   \n",
       "1                                       NaN                 10.0   \n",
       "2                                       NaN                  NaN   \n",
       "3                                       NaN                  5.0   \n",
       "4                                       NaN                  NaN   \n",
       "...                                     ...                  ...   \n",
       "587545                                  NaN                  NaN   \n",
       "587546                                  NaN                  NaN   \n",
       "587547                                  NaN                  NaN   \n",
       "587548                                  NaN                  NaN   \n",
       "587549                                  NaN                  NaN   \n",
       "\n",
       "        neighborhood_district                              point  \n",
       "0              Bernal Heights  POINT (-122.41837339 37.74208979)  \n",
       "1                Potrero Hill       POINT (-122.39489 37.756291)  \n",
       "2             South of Market       POINT (-122.407468 37.78008)  \n",
       "3                Hayes Valley  POINT (-122.42684908 37.77612642)  \n",
       "4              Outer Richmond   POINT (-122.4863941 37.77428492)  \n",
       "...                       ...                                ...  \n",
       "587545        Sunset/Parkside      POINT (-122.489541 37.740109)  \n",
       "587546         Inner Richmond      POINT (-122.470454 37.776021)  \n",
       "587547               Nob Hill      POINT (-122.417527 37.788157)  \n",
       "587548    Castro/Upper Market      POINT (-122.427623 37.763013)  \n",
       "587549             Noe Valley      POINT (-122.428981 37.752291)  \n",
       "\n",
       "[587550 rows x 64 columns]"
      ]
     },
     "execution_count": 2,
     "metadata": {},
     "output_type": "execute_result"
    }
   ],
   "source": [
    "import pandas as pd\n",
    "df=pd.read_csv('Fire_Incidents (1).csv')\n",
    "df\n"
   ]
  },
  {
   "cell_type": "code",
   "execution_count": null,
   "id": "dc41772c",
   "metadata": {},
   "outputs": [],
   "source": [
    "df.tail(5)"
   ]
  },
  {
   "cell_type": "code",
   "execution_count": null,
   "id": "96fd551d",
   "metadata": {},
   "outputs": [],
   "source": [
    "df.columns"
   ]
  },
  {
   "cell_type": "code",
   "execution_count": null,
   "id": "19e62a28",
   "metadata": {},
   "outputs": [],
   "source": [
    "df.isna().sum()"
   ]
  },
  {
   "cell_type": "code",
   "execution_count": null,
   "id": "20afc5d8",
   "metadata": {},
   "outputs": [],
   "source": [
    "df.drop(['ID','Box','Exposure Number','Detector Effectiveness', 'Detector Failure Reason','Automatic Extinguishing System Present','Automatic Extinguishing Sytem Type','Automatic Extinguishing Sytem Perfomance','Automatic Extinguishing Sytem Failure Reason','Number of Sprinkler Heads Operating','Supervisor District','Number of floors with minimum damage','Number of floors with extreme damage'], axis='columns', inplace=True)"
   ]
  },
  {
   "cell_type": "code",
   "execution_count": null,
   "id": "c3e11de7",
   "metadata": {},
   "outputs": [],
   "source": [
    "#df.drop(['ID','Box','Exposure Number'],axis='columns', inplace=True)"
   ]
  },
  {
   "cell_type": "code",
   "execution_count": null,
   "id": "b7f47bee",
   "metadata": {},
   "outputs": [],
   "source": [
    "df.isna().sum() # null values"
   ]
  },
  {
   "cell_type": "code",
   "execution_count": null,
   "id": "63189853",
   "metadata": {},
   "outputs": [],
   "source": [
    "df.dropna() #dropping the null values"
   ]
  },
  {
   "cell_type": "code",
   "execution_count": null,
   "id": "99a1d9bd",
   "metadata": {},
   "outputs": [],
   "source": [
    "df = df.fillna(df.mean())# Mean imputation\n",
    "df"
   ]
  },
  {
   "cell_type": "code",
   "execution_count": null,
   "id": "ff955180",
   "metadata": {},
   "outputs": [],
   "source": [
    "df['Detectors Present'].unique() # computing unique values"
   ]
  },
  {
   "cell_type": "code",
   "execution_count": null,
   "id": "5fd2cd5f",
   "metadata": {},
   "outputs": [],
   "source": [
    "#replacing duplicate names with unique\n",
    "df['Detectors Present']=df['Detectors Present'].replace(['U -Undetermined','1 -Present','-','N -Not present','1 Present','U Undetermined','N None present'],['No','Yes','No','No','Yes','No','No'])"
   ]
  },
  {
   "cell_type": "code",
   "execution_count": null,
   "id": "55384065",
   "metadata": {},
   "outputs": [],
   "source": [
    "df.to_csv(\"fire_draft3.csv\") # Exporting into csv file"
   ]
  },
  {
   "cell_type": "code",
   "execution_count": null,
   "id": "f87196b1",
   "metadata": {},
   "outputs": [],
   "source": []
  },
  {
   "cell_type": "code",
   "execution_count": null,
   "id": "4a8dd8f9",
   "metadata": {},
   "outputs": [],
   "source": [
    "df['Detectors Present'].unique()"
   ]
  },
  {
   "cell_type": "code",
   "execution_count": null,
   "id": "10b48a44",
   "metadata": {},
   "outputs": [],
   "source": [
    "df.info()"
   ]
  },
  {
   "cell_type": "code",
   "execution_count": null,
   "id": "ee49867d",
   "metadata": {},
   "outputs": [],
   "source": [
    "df['Detector Type'].unique()"
   ]
  },
  {
   "cell_type": "code",
   "execution_count": null,
   "id": "70863ecb",
   "metadata": {},
   "outputs": [],
   "source": [
    "df['Detector Type']=df['Detector Type'].replace(['nan', '-', '0 -Detector type, other', 'U -Undetermined', '1 -Smoke',\n",
    "       '3 -Combination smoke & heat in single unit',\n",
    "       '4 -Sprinkler, water flow detection',\n",
    "       '5 -More than one type present', '2 -Heat', '1 Smoke',\n",
    "       '5 More than one type present', 'U Undetermined',\n",
    "       '4 Sprinkler, water flow detection', '2 Heat',\n",
    "       '3 Combination smoke and heat in a single unit',\n",
    "       '0 Detector type','0 Detector type, other'],['Nan','Simple','Simple','Simple','smoke','Smoke+heat','Sprinkler','All','Heat','smoke','All','Simple','Sprinkler','Heat','Smoke+heat',\n",
    "                           'Simple','Simple'])"
   ]
  },
  {
   "cell_type": "code",
   "execution_count": null,
   "id": "576be5ed",
   "metadata": {},
   "outputs": [],
   "source": [
    "df['Detector Type'].unique()"
   ]
  },
  {
   "cell_type": "code",
   "execution_count": null,
   "id": "236bf759",
   "metadata": {},
   "outputs": [],
   "source": [
    "df['Detector Operation'].unique()"
   ]
  },
  {
   "cell_type": "code",
   "execution_count": null,
   "id": "6b956e25",
   "metadata": {},
   "outputs": [],
   "source": [
    "df['Detector Operation']=df['Detector Operation'].replace(\n",
    "    ['-','U -Undetermined','U Undetermined','3 Detector failed to operate',\n",
    "     '3 -Detector failed to operate','1 -Fire too small to activate detector',\n",
    "     '1 Fire too small to activate detector','2 -Detector operated','2 Detector operated']\n",
    "    ,['Detector failed','Detector failed','Detector failed','Detector failed','Detector failed'\n",
    "      ,'Fire too small to activate detector','Fire too small to activate detector','Detector operated','Detector operated'])"
   ]
  },
  {
   "cell_type": "code",
   "execution_count": null,
   "id": "c3836844",
   "metadata": {},
   "outputs": [],
   "source": [
    "df['Detector Operation'].unique()"
   ]
  },
  {
   "cell_type": "code",
   "execution_count": null,
   "id": "d2754f86",
   "metadata": {},
   "outputs": [],
   "source": [
    "df['Structure Type'].unique()"
   ]
  },
  {
   "cell_type": "code",
   "execution_count": null,
   "id": "8d70de31",
   "metadata": {},
   "outputs": [],
   "source": [
    "df['Structure Type']=df['Structure Type'].replace(['-','0 -Structure type, other',\n",
    "                '0 Structure type, other','1 -Enclosed building','1 Enclosed building',\n",
    "                '2 -Fixed portable or mobile structure','2 Fixed portable or mobile structure','3 -Open structure','3 Open structure','4 Air-supported structure','4 -Air supported structure',\n",
    "                '5 -Tent', '5 Tent','6 Open platform','6 -Open platform', '7 -Underground structure work areas','7 Underground structure work area','8 -Connective structure','8 Connective structure'],\n",
    "                ['small piece','small piece','small piece','Building','Building','Mobile','Mobile','Open structure','Open structure','air supported','air supported','Tent','Tent','Open structure','Open structure','Underground','Underground','Connective structure','Connective structure'])"
   ]
  },
  {
   "cell_type": "code",
   "execution_count": null,
   "id": "167c047a",
   "metadata": {},
   "outputs": [],
   "source": [
    "df['Structure Type'].unique()"
   ]
  },
  {
   "cell_type": "code",
   "execution_count": null,
   "id": "c1396e3b",
   "metadata": {},
   "outputs": [],
   "source": [
    "df['Structure Status'].unique()\n"
   ]
  },
  {
   "cell_type": "code",
   "execution_count": null,
   "id": "dbd8df3e",
   "metadata": {},
   "outputs": [],
   "source": [
    "df['Structure Status']=df['Structure Status'].replace(['1 -Under construction','2 -In normal use','3 -Idle, not routinely used','4 -Under major renovation','5 -Vacant and secured','6 -Vacant and unsecured','7 -Being demolished','0 -Other','0 Building status, other','-','U -Undetermined','U Undetermined']\n",
    "                                                      ,['1 Under construction','2 In normal use', '3 Idle, not routinely used','4 Under major renovation','5 Vacant and secured','6 Vacant and unsecured','7 Being demolished','0 Other','0 Other','0 Other','Undetermined','Undetermined'])"
   ]
  },
  {
   "cell_type": "code",
   "execution_count": null,
   "id": "e209becd",
   "metadata": {},
   "outputs": [],
   "source": [
    "df['Structure Status'].unique()"
   ]
  },
  {
   "cell_type": "code",
   "execution_count": null,
   "id": "dbcd8bf7",
   "metadata": {},
   "outputs": [],
   "source": [
    "df.shape"
   ]
  },
  {
   "cell_type": "code",
   "execution_count": null,
   "id": "e9cb90a6",
   "metadata": {},
   "outputs": [],
   "source": [
    "df['City'].unique()"
   ]
  },
  {
   "cell_type": "code",
   "execution_count": null,
   "id": "c27076ce",
   "metadata": {},
   "outputs": [],
   "source": [
    "df['City']=df['City'].replace(['SF','SFO','SAN FRANCISCO','San Francisco','Presidio','PRESIDIO','PR','TREASURE ISLAND','Treasure Island','TI','Treasure Isla','FORT MASON','Fort Mason','FM','HP','YB'],['San Francisco','San Francisco','San Francisco','San Francisco','Presidio','San Francisco','San Francisco','San Francisco','San Francisco','San Francisco','San Francisco','Fort Mason','Fort Mason','Fort Mason','Hunters Point','Yerba Buena'])"
   ]
  },
  {
   "cell_type": "code",
   "execution_count": null,
   "id": "22ad0ee1",
   "metadata": {},
   "outputs": [],
   "source": [
    "df['City'].unique()"
   ]
  },
  {
   "cell_type": "code",
   "execution_count": null,
   "id": "f818701a",
   "metadata": {},
   "outputs": [],
   "source": [
    "df['Primary Situation'].unique()"
   ]
  },
  {
   "cell_type": "code",
   "execution_count": null,
   "id": "9ef85136",
   "metadata": {},
   "outputs": [],
   "source": [
    "df['Ignition Factor Primary'].unique"
   ]
  },
  {
   "cell_type": "code",
   "execution_count": null,
   "id": "f920fc84",
   "metadata": {},
   "outputs": [],
   "source": [
    "df['Ignition Factor Primary'].unique()"
   ]
  },
  {
   "cell_type": "code",
   "execution_count": null,
   "id": "5cd22213",
   "metadata": {},
   "outputs": [],
   "source": [
    "df['Ignition Factor Primary']=df['Ignition Factor Primary'].replace(['2-','-','UU - Undetermined',' othe','25 - Worn out','75 Agriculture or land management burns','55 - Failure to clean','30 - Electrical failure, malfunction, othe','20 - Mechanical failure, malfunction, othe','75 - Agriculture or land management burns','11 - Abandoned or discarded materials or p','12 - Heat source too close to combustibles','53 - Equipment unattended','10 - Misuse of material or product, other','52 - Accidentally turned on, not turned of','14 - Flammable liquid or gas spilled','23 - Leak or break',\n",
    "                                                                    '33 - Short cir. arc, defect/worn insulatio','00 - Other factor contributed to ignition','41 - Design deficiency','18 - Improper container or storage','36 - Arc, spark from operating equipment','16 - Flammable liquid used to kindle fire',\n",
    "                                                                    '34 - Unspecified short-circuit arc','71 - Exposure fire','51 - Collision/knockdown/runover/turnover','19 - Playing with heat source','54 - Equipment overloaded','73 - Outside/open fire, debris/waste dispo','NN - None','32 - Short circuit arc from mechanical dam','58 - Equipment not being operated properly','13 - Cuttin/welding too close to combustib','26 - Backfire','17 - Washing part, painting w/flamm. liq.',\n",
    "                                                                     '60 - Natural condition, other','72 - Rekindle','35 - Arc/faulty contact, broken conductor','50 - Operational deficiency, other','43 - Installation deficiency',\n",
    "       '70 - Fire spread or control, other',\n",
    "       '74 - Outside/open fire for warming or cook','61 - High wind','15 - Improper fueling technique',\n",
    "       '21 - Automatic control failure',\n",
    "       '57 - Equipment used for not intended purpo','42 - Construction deficiency','22 - Manual control failure', '56 - Improper startup', '31 - Water caused short-circuit arc','44 - Manufacturing deficiency','40 - Design/Manufacture/Install Prob, othe','65 - Volcanic action',\n",
    "       '66 - Animal','2 -','62 - Storm','27 - Improper fuel used','37 - Fluorescent light ballast','63 - High water including floods','NN None', 'UU Undetermined','00 Factors contributing to ignition, other','31 Water-caused short-circuit arc','30 Electrical failure, malfunction, other','10 Misuse of material or product, other',\n",
    "                                                                     '52 Accidentally turned on, not turned off',],\n",
    "                                                                    ['Null','Null','Null','Null','Null','Agriculture','Cleaning-Failure','Electric-Failure','Mech-Failure','Agriclture','Cleaning-Failure','Electric-Failure','Cleaning-Failure','Cleaning-Failure','Human error','Heat-source',\n",
    "                                                                     'Human error','Electric-Failure','Others','Mech-Failure','Human error','Heat source','Heat source','Electric-Failure','Heat source','Heat source','Heat source','Human error','Heat source','Null','Electric-Failure','Mech-Failure','Mech-Failure',\n",
    "                                                                    'Heat source','Human error','Natural','Natural','Human error','Human error','Human error','Human error','Human error','Natural','Human error','Human error','Human error','Human error','Human error','Human error','Heat source','Mech-Failure','Mech-Failure','Natural','Natural'\n",
    "                                                                    ,'Null','Natural','Human error','Heat source','Natural','Null','Null','Heat source','Natural','Electric-Failure','Human error','Human error'])"
   ]
  },
  {
   "cell_type": "code",
   "execution_count": null,
   "id": "a3a2b0fa",
   "metadata": {},
   "outputs": [],
   "source": [
    "df.to_csv(\"fire_draft3.csv\")"
   ]
  },
  {
   "cell_type": "code",
   "execution_count": null,
   "id": "db275f6f",
   "metadata": {},
   "outputs": [],
   "source": []
  },
  {
   "cell_type": "code",
   "execution_count": null,
   "id": "3ad57a12",
   "metadata": {},
   "outputs": [],
   "source": []
  },
  {
   "cell_type": "code",
   "execution_count": null,
   "id": "d7d0bc8e",
   "metadata": {},
   "outputs": [],
   "source": []
  },
  {
   "cell_type": "code",
   "execution_count": null,
   "id": "f07472df",
   "metadata": {},
   "outputs": [],
   "source": []
  },
  {
   "cell_type": "code",
   "execution_count": null,
   "id": "a872e9b3",
   "metadata": {},
   "outputs": [],
   "source": [
    "df['Ignition Factor Primary'].unique()"
   ]
  },
  {
   "cell_type": "code",
   "execution_count": null,
   "id": "ef41cdd7",
   "metadata": {},
   "outputs": [],
   "source": [
    "#natural,construction,Electrical failure,Agriculture,"
   ]
  },
  {
   "cell_type": "code",
   "execution_count": null,
   "id": "a6fd023e",
   "metadata": {},
   "outputs": [],
   "source": []
  },
  {
   "cell_type": "code",
   "execution_count": 1,
   "id": "76a5795c",
   "metadata": {},
   "outputs": [
    {
     "name": "stdout",
     "output_type": "stream",
     "text": [
      "Collecting GitPython\n",
      "  Downloading GitPython-3.1.27-py3-none-any.whl (181 kB)\n",
      "\u001b[K     |████████████████████████████████| 181 kB 3.4 MB/s eta 0:00:01\n",
      "\u001b[?25hCollecting gitdb<5,>=4.0.1\n",
      "  Downloading gitdb-4.0.9-py3-none-any.whl (63 kB)\n",
      "\u001b[K     |████████████████████████████████| 63 kB 8.5 MB/s  eta 0:00:01\n",
      "\u001b[?25hCollecting smmap<6,>=3.0.1\n",
      "  Downloading smmap-5.0.0-py3-none-any.whl (24 kB)\n",
      "Installing collected packages: smmap, gitdb, GitPython\n",
      "Successfully installed GitPython-3.1.27 gitdb-4.0.9 smmap-5.0.0\n",
      "Note: you may need to restart the kernel to use updated packages.\n"
     ]
    }
   ],
   "source": [
    "pip install GitPython"
   ]
  },
  {
   "cell_type": "code",
   "execution_count": 1,
   "id": "a7681cde",
   "metadata": {},
   "outputs": [
    {
     "ename": "SyntaxError",
     "evalue": "invalid syntax (<ipython-input-1-ef6ae04308d4>, line 1)",
     "output_type": "error",
     "traceback": [
      "\u001b[0;36m  File \u001b[0;32m\"<ipython-input-1-ef6ae04308d4>\"\u001b[0;36m, line \u001b[0;32m1\u001b[0m\n\u001b[0;31m    git clone https://github.com/PurnimaSJSU/crop-recommendation-system.git\u001b[0m\n\u001b[0m        ^\u001b[0m\n\u001b[0;31mSyntaxError\u001b[0m\u001b[0;31m:\u001b[0m invalid syntax\n"
     ]
    }
   ],
   "source": [
    "git clone https://github.com/PurnimaSJSU/crop-recommendation-system.git"
   ]
  },
  {
   "cell_type": "code",
   "execution_count": 2,
   "id": "2cd5a986",
   "metadata": {},
   "outputs": [
    {
     "ename": "SyntaxError",
     "evalue": "invalid syntax (<ipython-input-2-ef6ae04308d4>, line 1)",
     "output_type": "error",
     "traceback": [
      "\u001b[0;36m  File \u001b[0;32m\"<ipython-input-2-ef6ae04308d4>\"\u001b[0;36m, line \u001b[0;32m1\u001b[0m\n\u001b[0;31m    git clone https://github.com/PurnimaSJSU/crop-recommendation-system.git\u001b[0m\n\u001b[0m        ^\u001b[0m\n\u001b[0;31mSyntaxError\u001b[0m\u001b[0;31m:\u001b[0m invalid syntax\n"
     ]
    }
   ],
   "source": [
    "git clone https://github.com/PurnimaSJSU/crop-recommendation-system.git"
   ]
  },
  {
   "cell_type": "code",
   "execution_count": 3,
   "id": "c515bdcc",
   "metadata": {},
   "outputs": [
    {
     "ename": "SyntaxError",
     "evalue": "invalid syntax (<ipython-input-3-fcf5cb41733c>, line 1)",
     "output_type": "error",
     "traceback": [
      "\u001b[0;36m  File \u001b[0;32m\"<ipython-input-3-fcf5cb41733c>\"\u001b[0;36m, line \u001b[0;32m1\u001b[0m\n\u001b[0;31m    git clone https://github.com/PurnimaSJSU/crop-recommendation-system\u001b[0m\n\u001b[0m        ^\u001b[0m\n\u001b[0;31mSyntaxError\u001b[0m\u001b[0;31m:\u001b[0m invalid syntax\n"
     ]
    }
   ],
   "source": [
    "git clone https://github.com/PurnimaSJSU/crop-recommendation-system\n",
    "git submodule update --init --recursive\n",
    "./init-tests-after-clone.sh"
   ]
  },
  {
   "cell_type": "code",
   "execution_count": 4,
   "id": "13e45d93",
   "metadata": {},
   "outputs": [
    {
     "ename": "SyntaxError",
     "evalue": "invalid syntax (<ipython-input-4-7ba7a5b3cf9b>, line 1)",
     "output_type": "error",
     "traceback": [
      "\u001b[0;36m  File \u001b[0;32m\"<ipython-input-4-7ba7a5b3cf9b>\"\u001b[0;36m, line \u001b[0;32m1\u001b[0m\n\u001b[0;31m    http://pypi.python.org/pypi/GitPython\u001b[0m\n\u001b[0m         ^\u001b[0m\n\u001b[0;31mSyntaxError\u001b[0m\u001b[0;31m:\u001b[0m invalid syntax\n"
     ]
    }
   ],
   "source": [
    "http://pypi.python.org/pypi/GitPython"
   ]
  },
  {
   "cell_type": "code",
   "execution_count": null,
   "id": "b3baea7e",
   "metadata": {},
   "outputs": [],
   "source": []
  }
 ],
 "metadata": {
  "kernelspec": {
   "display_name": "Python 3",
   "language": "python",
   "name": "python3"
  },
  "language_info": {
   "codemirror_mode": {
    "name": "ipython",
    "version": 3
   },
   "file_extension": ".py",
   "mimetype": "text/x-python",
   "name": "python",
   "nbconvert_exporter": "python",
   "pygments_lexer": "ipython3",
   "version": "3.8.8"
  }
 },
 "nbformat": 4,
 "nbformat_minor": 5
}
